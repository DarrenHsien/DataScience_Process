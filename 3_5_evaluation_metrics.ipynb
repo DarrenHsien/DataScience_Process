{
 "cells": [
  {
   "cell_type": "markdown",
   "metadata": {},
   "source": [
    "## [教學目標]\n",
    "學習 sklearn 中，各種評估指標的使用與意義"
   ]
  },
  {
   "cell_type": "code",
   "execution_count": 1,
   "metadata": {},
   "outputs": [],
   "source": [
    "from sklearn import metrics, datasets\n",
    "from sklearn.linear_model import LinearRegression\n",
    "from sklearn.model_selection import train_test_split\n",
    "\n",
    "import matplotlib.pyplot as plt\n",
    "from matplotlib.pylab import rcParams\n",
    "import numpy as np\n",
    "%matplotlib inline"
   ]
  },
  {
   "cell_type": "markdown",
   "metadata": {},
   "source": [
    "## 回歸問題\n",
    "常見的評估指標有\n",
    "- MAE\n",
    "- MSE\n",
    "- R-square"
   ]
  },
  {
   "cell_type": "markdown",
   "metadata": {},
   "source": [
    "我們隨機生成(X, y)資料，然後使用線性回歸模型做預測，再使用 MAE, MSE, R-square 評估"
   ]
  },
  {
   "cell_type": "code",
   "execution_count": 5,
   "metadata": {},
   "outputs": [
    {
     "data": {
      "image/png": "[encoded data removed]",
      "text/plain": [
       "<Figure size 1080x792 with 1 Axes>"
      ]
     },
     "metadata": {},
     "output_type": "display_data"
    },
    {
     "name": "stdout",
     "output_type": "stream",
     "text": [
      "MAE:  2.8417972525655664\n",
      "MSE:  12.488680067398237\n",
      "R-square:  0.9916581036260311\n"
     ]
    }
   ],
   "source": [
    "\"\"\"生成資料\"\"\"\n",
    "X, y = datasets.make_regression(n_features=1, random_state=42, noise=4) \n",
    "plt.figure(figsize = (15,11))\n",
    "s = 'dark_background'\n",
    "plt.style.use(s)\n",
    "plt.scatter(X,y)\n",
    "#plt.show()\n",
    "#print(\"X : \",X)\n",
    "#print(\"y : \",y)\n",
    "\"\"\"建立回歸模型\"\"\"\n",
    "model = LinearRegression()\n",
    "\"\"\"將資料放進模型訓練\"\"\"\n",
    "model.fit(X, y)\n",
    "\"\"\"進行預測\"\"\"\n",
    "prediction = model.predict(X)\n",
    "plt.scatter(X,prediction)\n",
    "plt.show()\n",
    "\"\"\"使用 MAE 評估\"\"\"\n",
    "mae = metrics.mean_absolute_error(prediction, y)\n",
    "\"\"\"使用 MSE 評估\"\"\"\n",
    "mse = metrics.mean_squared_error(prediction, y)\n",
    "\"\"\"使用 r-square 評估\"\"\"\n",
    "r2 = metrics.r2_score(prediction, y) \n",
    "print(\"MAE: \", mae)\n",
    "print(\"MSE: \", mse)\n",
    "print(\"R-square: \", r2)"
   ]
  },
  {
   "cell_type": "markdown",
   "metadata": {},
   "source": [
    "## 分類問題\n",
    "常見的評估指標有\n",
    "- AUC\n",
    "- F1-Score (Precision, Recall)"
   ]
  },
  {
   "cell_type": "code",
   "execution_count": 6,
   "metadata": {},
   "outputs": [],
   "source": [
    "\"\"\"我們使用 sklearn 內含的乳癌資料集\"\"\"\n",
    "cancer = datasets.load_breast_cancer() \n",
    "X_train, X_test, y_train, y_test = train_test_split(cancer.data, cancer.target, test_size=50, random_state=0)"
   ]
  },
  {
   "cell_type": "code",
   "execution_count": 7,
   "metadata": {},
   "outputs": [
    {
     "name": "stdout",
     "output_type": "stream",
     "text": [
      "[0 1 1 1 1 1 1 1 1 1 1 1 1 1 1 0 1 0 0 0 0 0 1 1 0 1 1 0 1 0 1 0 1 0 1 0 1\n",
      " 0 1 0 0 1 0 1 1 0 1 1 1 0]\n"
     ]
    }
   ],
   "source": [
    "print(y_test) # 測試集中的 label"
   ]
  },
  {
   "cell_type": "code",
   "execution_count": 10,
   "metadata": {},
   "outputs": [],
   "source": [
    "\"\"\"我們先隨機生成 50 筆預測值，範圍都在 0~1 之間，代表機率值\"\"\"\n",
    "y_pred = np.random.random((50,)) "
   ]
  },
  {
   "cell_type": "code",
   "execution_count": 11,
   "metadata": {},
   "outputs": [
    {
     "name": "stdout",
     "output_type": "stream",
     "text": [
      "[0.64989538 0.05039578 0.69653011 0.26660774 0.42436266 0.5140682\n",
      " 0.86514989 0.9742588  0.9579081  0.89134921 0.15078316 0.21135382\n",
      " 0.52006601 0.68608308 0.70239283 0.60148834 0.37666082 0.3512444\n",
      " 0.37627791 0.7925146  0.36216548 0.42972215 0.22105241 0.89317506\n",
      " 0.62429836 0.09511596 0.96968263 0.82577755 0.83418551 0.57784528\n",
      " 0.12435125 0.11098042 0.45342397 0.14594004 0.9591866  0.21471712\n",
      " 0.93739149 0.55177883 0.64129125 0.47775374 0.26586413 0.62469447\n",
      " 0.6809546  0.78525709 0.41517586 0.24859057 0.58344215 0.69837225\n",
      " 0.55240257 0.4564069 ]\n"
     ]
    }
   ],
   "source": [
    "print(y_pred)"
   ]
  },
  {
   "cell_type": "markdown",
   "metadata": {},
   "source": [
    "## AUC\n",
    "### 使用 roc_auc_score 來評估。 **這邊特別注意 y_pred 必須要放機率值進去!**\n",
    "### 得到結果約 0.5，與亂猜的結果相近，因為我們的預測值是用隨機生成的"
   ]
  },
  {
   "cell_type": "code",
   "execution_count": 12,
   "metadata": {},
   "outputs": [
    {
     "name": "stdout",
     "output_type": "stream",
     "text": [
      "AUC:  0.6434634974533107\n"
     ]
    }
   ],
   "source": [
    "auc = metrics.roc_auc_score(y_test, y_pred) \n",
    "print(\"AUC: \", auc) "
   ]
  },
  {
   "cell_type": "markdown",
   "metadata": {},
   "source": [
    "## F1-Score"
   ]
  },
  {
   "cell_type": "code",
   "execution_count": 14,
   "metadata": {},
   "outputs": [
    {
     "name": "stdout",
     "output_type": "stream",
     "text": [
      "y_pred_binarized :  [1 0 1 0 0 1 1 1 1 1 0 0 1 1 1 1 0 0 0 1 0 0 0 1 1 0 1 1 1 1 0 0 0 0 1 0 1\n",
      " 1 1 0 0 1 1 1 0 0 1 1 1 0]\n",
      "F1-Score:  0.6779661016949152\n",
      "Precision:  0.7142857142857143\n",
      "Recall:  0.6451612903225806\n"
     ]
    }
   ],
   "source": [
    "threshold = 0.5\n",
    "\"\"\"使用 np.where 函數, 將 y_pred > 0.5 的值變為 1，小於 0.5 的為 0\"\"\"\n",
    "y_pred_binarized = np.where(y_pred>threshold, 1, 0)\n",
    "print(\"y_pred_binarized : \",y_pred_binarized)\n",
    "\"\"\"使用 F1-Score 評估\"\"\"\n",
    "f1 = metrics.f1_score(y_test, y_pred_binarized)\n",
    "\"\"\"使用 Precision 評估\"\"\"\n",
    "precision = metrics.precision_score(y_test, y_pred_binarized)\n",
    "\"\"\"使用 recall 評估\"\"\"\n",
    "recall  = metrics.recall_score(y_test, y_pred_binarized) \n",
    "print(\"F1-Score: \", f1) \n",
    "print(\"Precision: \", precision)\n",
    "print(\"Recall: \", recall)"
   ]
  },
  {
   "cell_type": "markdown",
   "metadata": {},
   "source": [
    "## [作業重點]\n",
    "了解 F1-score 的公式意義，並試著理解程式碼"
   ]
  },
  {
   "cell_type": "markdown",
   "metadata": {},
   "source": [
    "## 作業\n",
    "請參考 F1-score 的公式與[原始碼](https://github.com/scikit-learn/scikit-learn/blob/bac89c2/sklearn/metrics/classification.py#L620)，試著寫出 F2-Score 的計算函數"
   ]
  },
  {
   "cell_type": "code",
   "execution_count": 16,
   "metadata": {},
   "outputs": [
    {
     "data": {
      "text/plain": [
       "0.6578947368421053"
      ]
     },
     "execution_count": 16,
     "metadata": {},
     "output_type": "execute_result"
    }
   ],
   "source": [
    "from sklearn import metrics\n",
    "precision = metrics.precision_score(y_test, y_pred_binarized)\n",
    "recall = metrics.recall_score(y_test, y_pred_binarized)\n",
    "def Fb2Score(beta, precision, recall):\n",
    "    return ((1+beta**2)*(precision*recall))/(beta**2*precision+recall)\n",
    "Fb2Score(2,precision,recall)"
   ]
  },
  {
   "cell_type": "code",
   "execution_count": null,
   "metadata": {},
   "outputs": [],
   "source": []
  }
 ],
 "metadata": {
  "kernelspec": {
   "display_name": "Python 3",
   "language": "python",
   "name": "python3"
  },
  "language_info": {
   "codemirror_mode": {
    "name": "ipython",
    "version": 3
   },
   "file_extension": ".py",
   "mimetype": "text/x-python",
   "name": "python",
   "nbconvert_exporter": "python",
   "pygments_lexer": "ipython3",
   "version": "3.7.6"
  }
 },
 "nbformat": 4,
 "nbformat_minor": 2
}
